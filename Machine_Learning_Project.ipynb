{
  "nbformat": 4,
  "nbformat_minor": 0,
  "metadata": {
    "colab": {
      "provenance": []
    },
    "kernelspec": {
      "name": "python3",
      "display_name": "Python 3"
    },
    "language_info": {
      "name": "python"
    }
  },
  "cells": [
    {
      "cell_type": "markdown",
      "source": [
        "#  Importing Libraries"
      ],
      "metadata": {
        "id": "zcsm8K355r8i"
      }
    },
    {
      "cell_type": "code",
      "source": [
        "import pandas as pd\n",
        "import numpy as np\n",
        "import matplotlib.pyplot as plt\n",
        "import seaborn as sns\n",
        "from sklearn.model_selection import train_test_split\n",
        "from sklearn.preprocessing import StandardScaler, LabelEncoder\n",
        "from sklearn.metrics import classification_report, confusion_matrix, roc_auc_score\n",
        "from xgboost import XGBClassifier\n",
        "import seaborn as sns\n",
        "import matplotlib.pyplot as plt"
      ],
      "metadata": {
        "id": "9idp43YJ5rU1"
      },
      "execution_count": null,
      "outputs": []
    },
    {
      "cell_type": "markdown",
      "source": [
        "# Read the Data"
      ],
      "metadata": {
        "id": "qtRHqE72Twrs"
      }
    },
    {
      "cell_type": "code",
      "source": [
        "df = pd.read_csv(\"/content/PS_20174392719_1491204439457_log.csv\")\n",
        "df.head()"
      ],
      "metadata": {
        "id": "U3gnBpyC4YMO"
      },
      "execution_count": null,
      "outputs": []
    },
    {
      "cell_type": "markdown",
      "source": [
        "# Data Exploration"
      ],
      "metadata": {
        "id": "DBlnOQEZTy24"
      }
    },
    {
      "cell_type": "code",
      "execution_count": null,
      "metadata": {
        "id": "29OSr_w8Tl6N"
      },
      "outputs": [],
      "source": [
        "print(df.info())"
      ]
    },
    {
      "cell_type": "markdown",
      "source": [
        "# Data Preprocessing"
      ],
      "metadata": {
        "id": "9cw3RWebT4k0"
      }
    },
    {
      "cell_type": "markdown",
      "source": [
        "## Data Cleaning"
      ],
      "metadata": {
        "id": "EjqV6ZPtT6XX"
      }
    },
    {
      "cell_type": "markdown",
      "source": [
        "## Handling Missing Values"
      ],
      "metadata": {
        "id": "myX01QwUUFRN"
      }
    },
    {
      "cell_type": "code",
      "source": [
        "df['isFlaggedFraud'].value_counts()"
      ],
      "metadata": {
        "id": "RBXwjTg5UISw"
      },
      "execution_count": null,
      "outputs": []
    },
    {
      "cell_type": "code",
      "source": [
        "df.drop(columns=['isFlaggedFraud'],inplace=True)"
      ],
      "metadata": {
        "id": "D-ypez8w6YSO"
      },
      "execution_count": null,
      "outputs": []
    },
    {
      "cell_type": "markdown",
      "source": [
        "## Handling Duplicate Values"
      ],
      "metadata": {
        "id": "DUPmxMqkUIsL"
      }
    },
    {
      "cell_type": "code",
      "source": [
        "df.describe()"
      ],
      "metadata": {
        "id": "za_j3Uw0UO_q"
      },
      "execution_count": null,
      "outputs": []
    },
    {
      "cell_type": "code",
      "source": [
        "print(df.isnull().sum())"
      ],
      "metadata": {
        "id": "P9jfhcIw6jXY"
      },
      "execution_count": null,
      "outputs": []
    },
    {
      "cell_type": "code",
      "source": [
        "print(df.duplicated().sum())"
      ],
      "metadata": {
        "id": "Spa7MjPS6m96"
      },
      "execution_count": null,
      "outputs": []
    },
    {
      "cell_type": "markdown",
      "source": [
        "### Handling Outliers"
      ],
      "metadata": {
        "id": "K651onVyUPX2"
      }
    },
    {
      "cell_type": "code",
      "source": [
        "plt.figure(figsize = (10, 7))\n",
        "for col in df.select_dtypes([int,float]).columns:\n",
        "  sns.boxplot(df[col])\n",
        "  plt.show()"
      ],
      "metadata": {
        "id": "fRUAYTF9URr0"
      },
      "execution_count": null,
      "outputs": []
    },
    {
      "cell_type": "code",
      "source": [
        "plt.figure(figsize=(10, 6))\n",
        "sns.countplot(x='type', data=df)\n",
        "plt.title('Transaction Types')\n",
        "plt.show()"
      ],
      "metadata": {
        "id": "wHvlqS_eUftc"
      },
      "execution_count": null,
      "outputs": []
    },
    {
      "cell_type": "code",
      "source": [
        "plt.figure(figsize=(10, 6))\n",
        "sns.histplot(df['amount'], bins=50, kde=True)\n",
        "plt.title('Transaction Amount Distribution')\n",
        "plt.show()"
      ],
      "metadata": {
        "id": "X3Oh40sN9B_7"
      },
      "execution_count": null,
      "outputs": []
    },
    {
      "cell_type": "code",
      "source": [
        "plt.figure(figsize=(12, 8))\n",
        "sns.heatmap(df.corr(), annot=True, cmap='coolwarm')\n",
        "plt.title('Correlation Heatmap')\n",
        "plt.show()"
      ],
      "metadata": {
        "id": "EPIjQJJM9J4v"
      },
      "execution_count": null,
      "outputs": []
    },
    {
      "cell_type": "markdown",
      "source": [
        "## Feature Engineering"
      ],
      "metadata": {
        "id": "03q8lqLlT70d"
      }
    },
    {
      "cell_type": "markdown",
      "source": [
        "### Feature Selection"
      ],
      "metadata": {
        "id": "dcBgWjIrUdwX"
      }
    },
    {
      "cell_type": "markdown",
      "source": [
        "### Feature Transformation"
      ],
      "metadata": {
        "id": "WYlEVrRfUhIH"
      }
    },
    {
      "cell_type": "markdown",
      "source": [
        "#### Encoding Categorical Variables"
      ],
      "metadata": {
        "id": "G62lQpHiUkpN"
      }
    },
    {
      "cell_type": "code",
      "source": [
        "df['type'] = LabelEncoder().fit_transform(df['type'])\n",
        "df['nameOrig'] = LabelEncoder().fit_transform(df['nameOrig'])\n",
        "df['nameDest'] = LabelEncoder().fit_transform(df['nameDest'])"
      ],
      "metadata": {
        "id": "42SbIY_TUr9O"
      },
      "execution_count": null,
      "outputs": []
    },
    {
      "cell_type": "markdown",
      "source": [
        "#### Creating New Features [Optional]"
      ],
      "metadata": {
        "id": "Z2lGFiXjUvPp"
      }
    },
    {
      "cell_type": "code",
      "source": [
        "df['balancediff'] = df['newbalanceDest'] - df['oldbalanceDest']\n",
        "df['Origdiff'] = df['newbalanceOrig'] - df['oldbalanceOrg']"
      ],
      "metadata": {
        "id": "ocD1FlnlU5Fa"
      },
      "execution_count": null,
      "outputs": []
    },
    {
      "cell_type": "code",
      "source": [
        "df.drop(columns = ['newbalanceDest', 'oldbalanceDest'], inplace = True)\n",
        "df.drop(columns = ['newbalanceOrig', 'oldbalanceOrg'], inplace = True)"
      ],
      "metadata": {
        "id": "gb7YCNhM9hrz"
      },
      "execution_count": null,
      "outputs": []
    },
    {
      "cell_type": "code",
      "source": [
        "plt.figure(figsize=(12, 8))\n",
        "sns.heatmap(df.corr(), annot=True, cmap='coolwarm')\n",
        "plt.title('Correlation Heatmap')\n",
        "plt.show()"
      ],
      "metadata": {
        "id": "XaDgXGaf9uh9"
      },
      "execution_count": null,
      "outputs": []
    },
    {
      "cell_type": "markdown",
      "source": [
        "## Data Splitting"
      ],
      "metadata": {
        "id": "_1AmqqLVUBc8"
      }
    },
    {
      "cell_type": "markdown",
      "source": [
        "### Split into features (x) and target (y)"
      ],
      "metadata": {
        "id": "6ROhY3hfU7Lm"
      }
    },
    {
      "cell_type": "code",
      "source": [
        "x = df.drop(columns = ['isFraud'])\n",
        "y = df['isFraud']"
      ],
      "metadata": {
        "id": "d4vW1_9CVC6n"
      },
      "execution_count": null,
      "outputs": []
    },
    {
      "cell_type": "markdown",
      "source": [
        "### Split into training and testing"
      ],
      "metadata": {
        "id": "atkkJ9CCVAbW"
      }
    },
    {
      "cell_type": "code",
      "source": [
        "from sklearn.model_selection import train_test_split\n",
        "xtrain,xtest,ytrain,ytest = train_test_split(x,y,train_size=0.8)"
      ],
      "metadata": {
        "id": "oHxnF4_AVD8F"
      },
      "execution_count": null,
      "outputs": []
    },
    {
      "cell_type": "markdown",
      "source": [
        "# Build the Model"
      ],
      "metadata": {
        "id": "sdkLtsjmVHBX"
      }
    },
    {
      "cell_type": "markdown",
      "source": [
        "## Model Selection\n",
        "\n",
        "Train and evaluate different with different hyperparameters"
      ],
      "metadata": {
        "id": "_Ge5KrnLVMHH"
      }
    },
    {
      "cell_type": "code",
      "source": [
        "def eval_model(model,xtrain,ytrain,xtest,ytest):\n",
        "  model.fit(xtrain,ytrain)\n",
        "  print(f'training score: {model.score(xtrain,ytrain)}')\n",
        "  print(f'testing score: {model.score(xtest,ytest)}')"
      ],
      "metadata": {
        "id": "6PhRCiH-T59L"
      },
      "execution_count": null,
      "outputs": []
    },
    {
      "cell_type": "code",
      "source": [
        "from sklearn.linear_model import LogisticRegression\n",
        "model = LogisticRegression()\n",
        "eval_model(model,xtrain,ytrain,xtest,ytest)"
      ],
      "metadata": {
        "id": "qtPwt_v5-UwT"
      },
      "execution_count": null,
      "outputs": []
    },
    {
      "cell_type": "code",
      "source": [
        "from sklearn.tree import DecisionTreeClassifier\n",
        "model = DecisionTreeClassifier()\n",
        "eval_model(model,xtrain,ytrain,xtest,ytest)"
      ],
      "metadata": {
        "id": "lUCwD3ZC-ZRA"
      },
      "execution_count": null,
      "outputs": []
    },
    {
      "cell_type": "code",
      "source": [
        "from sklearn.neighbors import KNeighborsClassifier\n",
        "model = KNeighborsClassifier()\n",
        "eval_model(model,xtrain,ytrain,xtest,ytest)"
      ],
      "metadata": {
        "id": "PS817cOm-fMq"
      },
      "execution_count": null,
      "outputs": []
    },
    {
      "cell_type": "code",
      "source": [
        "from sklearn.svm import SVC\n",
        "model = SVC()\n",
        "eval_model(model,xtrain,ytrain,xtest,ytest)"
      ],
      "metadata": {
        "id": "ov3LayXl-fqx"
      },
      "execution_count": null,
      "outputs": []
    },
    {
      "cell_type": "code",
      "source": [
        "from sklearn.naive_bayes import MultinomialNB\n",
        "model = MultinomialNB()\n",
        "eval_model(model,xtrain,ytrain,xtest,ytest)"
      ],
      "metadata": {
        "id": "FO01ROo--kB1"
      },
      "execution_count": null,
      "outputs": []
    },
    {
      "cell_type": "code",
      "source": [
        "from sklearn.ensemble import RandomForestClassifier\n",
        "model = RandomForestClassifier()\n",
        "eval_model(model,xtrain,ytrain,xtest,ytest)"
      ],
      "metadata": {
        "id": "F28sFJd1-qhs"
      },
      "execution_count": null,
      "outputs": []
    },
    {
      "cell_type": "code",
      "source": [
        "from sklearn.ensemble import AdaBoostClassifier\n",
        "model = AdaBoostClassifier()\n",
        "eval_model(model,xtrain,ytrain,xtest,ytest)"
      ],
      "metadata": {
        "id": "EHUteiqn-q-z"
      },
      "execution_count": null,
      "outputs": []
    },
    {
      "cell_type": "code",
      "source": [
        "from sklearn.ensemble import GradientBoostingClassifier\n",
        "model = GradientBoostingClassifier()\n",
        "eval_model(model,xtrain,ytrain,xtest,ytest)"
      ],
      "metadata": {
        "id": "_XMVzeSZ-vR_"
      },
      "execution_count": null,
      "outputs": []
    },
    {
      "cell_type": "markdown",
      "source": [
        "## Train the Dession Tree Classifer Model"
      ],
      "metadata": {
        "id": "Z8cX7lQOV5W9"
      }
    },
    {
      "cell_type": "code",
      "source": [
        "model.fit(xtrain,ytrain)"
      ],
      "metadata": {
        "id": "3-YokCXlV7Xl"
      },
      "execution_count": null,
      "outputs": []
    },
    {
      "cell_type": "markdown",
      "source": [
        "## Predictions\n",
        "\n",
        "Training as well as testing data"
      ],
      "metadata": {
        "id": "JrP8LFPWV8x9"
      }
    },
    {
      "cell_type": "code",
      "source": [
        "trainpred = model.predict(xtrain)\n",
        "testpred = model.predict(xtest)"
      ],
      "metadata": {
        "id": "F2LydbsdV_D6"
      },
      "execution_count": null,
      "outputs": []
    },
    {
      "cell_type": "markdown",
      "source": [
        "## Evaluate the Model"
      ],
      "metadata": {
        "id": "aArkvg6fWCnZ"
      }
    },
    {
      "cell_type": "code",
      "source": [
        "from sklearn.metrics import classification_report"
      ],
      "metadata": {
        "id": "8jV7bjyUWEmj"
      },
      "execution_count": null,
      "outputs": []
    },
    {
      "cell_type": "code",
      "source": [
        "print(classification_report(ytrain,trainpred))"
      ],
      "metadata": {
        "id": "rRicNeM__NL7"
      },
      "execution_count": null,
      "outputs": []
    },
    {
      "cell_type": "code",
      "source": [
        "print(classification_report(ytest,testpred))"
      ],
      "metadata": {
        "id": "pHK9ctLf_Qv5"
      },
      "execution_count": null,
      "outputs": []
    }
  ]
}